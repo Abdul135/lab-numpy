{
 "cells": [
  {
   "cell_type": "markdown",
   "metadata": {},
   "source": [
    "# Intrduction to NumPy\n",
    "\n",
    "\n",
    "#### 1. Import NumPy under the name np."
   ]
  },
  {
   "cell_type": "code",
   "execution_count": 1,
   "metadata": {},
   "outputs": [],
   "source": [
    "# your code here\n",
    "import numpy as np"
   ]
  },
  {
   "cell_type": "markdown",
   "metadata": {},
   "source": [
    "#### 2. Print your NumPy version."
   ]
  },
  {
   "cell_type": "code",
   "execution_count": 2,
   "metadata": {},
   "outputs": [
    {
     "name": "stdout",
     "output_type": "stream",
     "text": [
      "1.18.5\n"
     ]
    }
   ],
   "source": [
    "# your code here\n",
    "print(np.__version__)"
   ]
  },
  {
   "cell_type": "markdown",
   "metadata": {},
   "source": [
    "#### 3. Generate a 2x3x5 3-dimensional array with random values. Assign the array to variable *a*.\n",
    "**Challenge**: there are at least three easy ways that use numpy to generate random arrays. How many ways can you find?"
   ]
  },
  {
   "cell_type": "code",
   "execution_count": 3,
   "metadata": {},
   "outputs": [],
   "source": [
    "# Method 1\n",
    "a = np.random.randn(2,3,5)\n"
   ]
  },
  {
   "cell_type": "code",
   "execution_count": 4,
   "metadata": {},
   "outputs": [],
   "source": [
    "# Method 2\n",
    "a = np.random.randint(10,90,(2,3,5)) \n"
   ]
  },
  {
   "cell_type": "code",
   "execution_count": 5,
   "metadata": {},
   "outputs": [],
   "source": [
    "# Method 3\n",
    "a = np.random.random((2,3,5))"
   ]
  },
  {
   "cell_type": "markdown",
   "metadata": {},
   "source": [
    "#### 4. Print *a*.\n"
   ]
  },
  {
   "cell_type": "code",
   "execution_count": 6,
   "metadata": {},
   "outputs": [
    {
     "name": "stdout",
     "output_type": "stream",
     "text": [
      "[[[0.44727641 0.2484823  0.93143945 0.6105793  0.6625508 ]\n",
      "  [0.88122769 0.13103738 0.14422504 0.86558866 0.22669664]\n",
      "  [0.74626099 0.14648207 0.79324912 0.79800421 0.27108516]]\n",
      "\n",
      " [[0.46830065 0.17005071 0.04174133 0.72976431 0.69191574]\n",
      "  [0.21204137 0.21851436 0.0653824  0.28895543 0.51940472]\n",
      "  [0.85683978 0.34840372 0.97151742 0.10679813 0.81672387]]]\n"
     ]
    }
   ],
   "source": [
    "# your code here\n",
    "print(a)"
   ]
  },
  {
   "cell_type": "markdown",
   "metadata": {},
   "source": [
    "#### 5. Create a 5x2x3 3-dimensional array with all values equaling 1. Assign the array to variable *b*."
   ]
  },
  {
   "cell_type": "code",
   "execution_count": 7,
   "metadata": {},
   "outputs": [],
   "source": [
    "# your code here\n",
    "b = np.ones((5, 2, 3))"
   ]
  },
  {
   "cell_type": "markdown",
   "metadata": {},
   "source": [
    "#### 6. Print *b*.\n"
   ]
  },
  {
   "cell_type": "code",
   "execution_count": 8,
   "metadata": {},
   "outputs": [
    {
     "name": "stdout",
     "output_type": "stream",
     "text": [
      "[[[1. 1. 1.]\n",
      "  [1. 1. 1.]]\n",
      "\n",
      " [[1. 1. 1.]\n",
      "  [1. 1. 1.]]\n",
      "\n",
      " [[1. 1. 1.]\n",
      "  [1. 1. 1.]]\n",
      "\n",
      " [[1. 1. 1.]\n",
      "  [1. 1. 1.]]\n",
      "\n",
      " [[1. 1. 1.]\n",
      "  [1. 1. 1.]]]\n"
     ]
    }
   ],
   "source": [
    "# your code here\n",
    "print(b)"
   ]
  },
  {
   "cell_type": "markdown",
   "metadata": {},
   "source": [
    "#### 7. Do *a* and *b* have the same size? How do you prove that in Python code?"
   ]
  },
  {
   "cell_type": "code",
   "execution_count": 9,
   "metadata": {},
   "outputs": [
    {
     "name": "stdout",
     "output_type": "stream",
     "text": [
      "a and b are equal.\n"
     ]
    }
   ],
   "source": [
    "# your code here\n",
    "aSize = a.size\n",
    "bSize = b.size\n",
    "if aSize == bSize:\n",
    "    print(\"a and b are equal.\")\n",
    "elif aSize > bSize:\n",
    "    print(\"They don't have the same size. a is bigger than b\")\n",
    "else:\n",
    "    print(\"They don't have the same size. b is bigger than a\")\n",
    "    "
   ]
  },
  {
   "cell_type": "markdown",
   "metadata": {},
   "source": [
    "#### 8. Are you able to add *a* and *b*? Why or why not?\n"
   ]
  },
  {
   "cell_type": "code",
   "execution_count": 10,
   "metadata": {},
   "outputs": [
    {
     "ename": "ValueError",
     "evalue": "operands could not be broadcast together with shapes (2,3,5) (5,2,3) ",
     "output_type": "error",
     "traceback": [
      "\u001b[0;31m---------------------------------------------------------------------------\u001b[0m",
      "\u001b[0;31mValueError\u001b[0m                                Traceback (most recent call last)",
      "\u001b[0;32m<ipython-input-10-02a911d8cd99>\u001b[0m in \u001b[0;36m<module>\u001b[0;34m\u001b[0m\n\u001b[1;32m      2\u001b[0m \u001b[0ma\u001b[0m \u001b[0;32mand\u001b[0m \u001b[0mb\u001b[0m \u001b[0mcan\u001b[0m\u001b[0;31m'\u001b[0m\u001b[0mt\u001b[0m \u001b[0mbe\u001b[0m \u001b[0madded\u001b[0m \u001b[0mbecause\u001b[0m \u001b[0mthey\u001b[0m \u001b[0mhave\u001b[0m \u001b[0mdifferent\u001b[0m \u001b[0mshapes\u001b[0m\u001b[0;34m\u001b[0m\u001b[0;34m\u001b[0m\u001b[0m\n\u001b[1;32m      3\u001b[0m '''\n\u001b[0;32m----> 4\u001b[0;31m \u001b[0mprint\u001b[0m\u001b[0;34m(\u001b[0m\u001b[0mnp\u001b[0m\u001b[0;34m.\u001b[0m\u001b[0madd\u001b[0m\u001b[0;34m(\u001b[0m\u001b[0ma\u001b[0m\u001b[0;34m,\u001b[0m\u001b[0mb\u001b[0m\u001b[0;34m)\u001b[0m\u001b[0;34m)\u001b[0m\u001b[0;34m\u001b[0m\u001b[0;34m\u001b[0m\u001b[0m\n\u001b[0m",
      "\u001b[0;31mValueError\u001b[0m: operands could not be broadcast together with shapes (2,3,5) (5,2,3) "
     ]
    }
   ],
   "source": [
    "''' \n",
    "a and b can't be added because they have different shapes\n",
    "'''\n",
    "print(np.add(a,b))"
   ]
  },
  {
   "cell_type": "markdown",
   "metadata": {},
   "source": [
    "#### 9. Transpose *b* so that it has the same structure of *a* (i.e. become a 2x3x5 array). Assign the transposed array to variable *c*."
   ]
  },
  {
   "cell_type": "code",
   "execution_count": 11,
   "metadata": {},
   "outputs": [
    {
     "name": "stdout",
     "output_type": "stream",
     "text": [
      "[[[1. 1. 1. 1. 1.]\n",
      "  [1. 1. 1. 1. 1.]\n",
      "  [1. 1. 1. 1. 1.]]\n",
      "\n",
      " [[1. 1. 1. 1. 1.]\n",
      "  [1. 1. 1. 1. 1.]\n",
      "  [1. 1. 1. 1. 1.]]]\n"
     ]
    }
   ],
   "source": [
    "# your code here\n",
    "c = b.reshape(2,3,5)\n",
    "print(c)"
   ]
  },
  {
   "cell_type": "markdown",
   "metadata": {},
   "source": [
    "#### 10. Try to add *a* and *c*. Now it should work. Assign the sum to variable *d*. But why does it work now?"
   ]
  },
  {
   "cell_type": "code",
   "execution_count": 12,
   "metadata": {},
   "outputs": [
    {
     "name": "stdout",
     "output_type": "stream",
     "text": [
      "[[2.91557707 2.41853301 2.97318078 3.34034361 3.35446654]\n",
      " [3.09326906 2.34955174 2.20960745 3.15454409 2.74610136]\n",
      " [3.60310077 2.49488579 3.76476654 2.90480234 3.08780904]]\n"
     ]
    }
   ],
   "source": [
    "# your code/it works because the shapes are the same after using the rshape function\n",
    "d = sum(np.add(a,c))\n",
    "print(d)"
   ]
  },
  {
   "cell_type": "markdown",
   "metadata": {},
   "source": [
    "#### 11. Print *a* and *d*. Notice the difference and relation of the two array in terms of the values? Explain."
   ]
  },
  {
   "cell_type": "code",
   "execution_count": 13,
   "metadata": {},
   "outputs": [
    {
     "name": "stdout",
     "output_type": "stream",
     "text": [
      "[[[0.44727641 0.2484823  0.93143945 0.6105793  0.6625508 ]\n",
      "  [0.88122769 0.13103738 0.14422504 0.86558866 0.22669664]\n",
      "  [0.74626099 0.14648207 0.79324912 0.79800421 0.27108516]]\n",
      "\n",
      " [[0.46830065 0.17005071 0.04174133 0.72976431 0.69191574]\n",
      "  [0.21204137 0.21851436 0.0653824  0.28895543 0.51940472]\n",
      "  [0.85683978 0.34840372 0.97151742 0.10679813 0.81672387]]]\n",
      "[[2.91557707 2.41853301 2.97318078 3.34034361 3.35446654]\n",
      " [3.09326906 2.34955174 2.20960745 3.15454409 2.74610136]\n",
      " [3.60310077 2.49488579 3.76476654 2.90480234 3.08780904]]\n"
     ]
    }
   ],
   "source": [
    "# your code/answer here\n",
    "print(a)\n",
    "print(d)"
   ]
  },
  {
   "cell_type": "markdown",
   "metadata": {},
   "source": [
    "#### 12. Multiply *a* and *c*. Assign the result to *e*."
   ]
  },
  {
   "cell_type": "code",
   "execution_count": 14,
   "metadata": {},
   "outputs": [],
   "source": [
    "# your code here\n",
    "e = a * c"
   ]
  },
  {
   "cell_type": "markdown",
   "metadata": {},
   "source": [
    "#### 13. Does *e* equal to *a*? Why or why not?\n"
   ]
  },
  {
   "cell_type": "code",
   "execution_count": 15,
   "metadata": {},
   "outputs": [
    {
     "name": "stdout",
     "output_type": "stream",
     "text": [
      "a and e are equal.\n"
     ]
    }
   ],
   "source": [
    "# your code/answer here\n",
    "eSize = e.size\n",
    "if aSize == eSize:\n",
    "    print(\"a and e are equal.\")\n",
    "elif aSize > eSize:\n",
    "    print(\"They don't have the same size. a is bigger than e\")\n",
    "else:\n",
    "    print(\"They don't have the same size. e is bigger than a\")"
   ]
  },
  {
   "cell_type": "markdown",
   "metadata": {},
   "source": [
    "#### 14. Identify the max, min, and mean values in *d*. Assign those values to variables *d_max*, *d_min* and *d_mean*."
   ]
  },
  {
   "cell_type": "code",
   "execution_count": 92,
   "metadata": {},
   "outputs": [],
   "source": [
    "# your code here\n",
    "d_max = np.max(d)\n",
    "d_min = np.min(d)\n",
    "d_mean = np.mean(d)\n"
   ]
  },
  {
   "cell_type": "markdown",
   "metadata": {},
   "source": [
    "#### 15. Now we want to label the values in *d*. First create an empty array *f* with the same shape (i.e. 2x3x5) as *d* using `np.empty`.\n"
   ]
  },
  {
   "cell_type": "code",
   "execution_count": 93,
   "metadata": {},
   "outputs": [],
   "source": [
    "# your code here\n",
    "f = np.empty([2, 3, 5])"
   ]
  },
  {
   "cell_type": "markdown",
   "metadata": {},
   "source": [
    "#### 16. Populate the values in *f*. \n",
    "\n",
    "For each value in *d*, if it's larger than *d_min* but smaller than *d_mean*, assign 25 to the corresponding value in *f*. If a value in *d* is larger than *d_mean* but smaller than *d_max*, assign 75 to the corresponding value in *f*. If a value equals to *d_mean*, assign 50 to the corresponding value in *f*. Assign 0 to the corresponding value(s) in *f* for *d_min* in *d*. Assign 100 to the corresponding value(s) in *f* for *d_max* in *d*. In the end, f should have only the following values: 0, 25, 50, 75, and 100.\n",
    "\n",
    "**Note**: you don't have to use Numpy in this question."
   ]
  },
  {
   "cell_type": "code",
   "execution_count": 94,
   "metadata": {},
   "outputs": [],
   "source": [
    "# your code here\n",
    "f = []\n",
    "for i in d:\n",
    "    for x in i:\n",
    "        if x > d_min and x < d_mean:\n",
    "            f += [25]\n",
    "        if x > d_mean and x < d_max:\n",
    "            f += [75]\n",
    "        if x == d_mean:\n",
    "            f += [50]\n",
    "        if x == d_min:\n",
    "            f += [0]\n",
    "        if x == d_max:\n",
    "            f += [100]\n",
    "f = np.reshape(f, (3,5))"
   ]
  },
  {
   "cell_type": "markdown",
   "metadata": {},
   "source": [
    "#### 17. Print *d* and *f*. Do you have your expected *f*?\n",
    "For instance, if your *d* is:\n",
    "```python\n",
    "[[[1.85836099, 1.67064465, 1.62576044, 1.40243961, 1.88454931],\n",
    "[1.75354326, 1.69403643, 1.36729252, 1.61415071, 1.12104981],\n",
    "[1.72201435, 1.1862918 , 1.87078449, 1.7726778 , 1.88180042]],\n",
    "[[1.44747908, 1.31673383, 1.02000951, 1.52218947, 1.97066381],\n",
    "[1.79129243, 1.74983003, 1.96028037, 1.85166831, 1.65450881],\n",
    "[1.18068344, 1.9587381 , 1.00656599, 1.93402165, 1.73514584]]]\n",
    "```\n",
    "Your *f* should be:\n",
    "```python\n",
    "[[[ 75.,  75.,  75.,  25.,  75.],\n",
    "[ 75.,  75.,  25.,  25.,  25.],\n",
    "[ 75.,  25.,  75.,  75.,  75.]],\n",
    "[[ 25.,  25.,  25.,  25., 100.],\n",
    "[ 75.,  75.,  75.,  75.,  75.],\n",
    "[ 25.,  75.,   0.,  75.,  75.]]]\n",
    "```"
   ]
  },
  {
   "cell_type": "code",
   "execution_count": 95,
   "metadata": {},
   "outputs": [
    {
     "name": "stdout",
     "output_type": "stream",
     "text": [
      "[[2.91557707 2.41853301 2.97318078 3.34034361 3.35446654]\n",
      " [3.09326906 2.34955174 2.20960745 3.15454409 2.74610136]\n",
      " [3.60310077 2.49488579 3.76476654 2.90480234 3.08780904]]\n",
      "[[ 25  25  75  75  75]\n",
      " [ 75  25   0  75  25]\n",
      " [ 75  25 100  25  75]]\n"
     ]
    }
   ],
   "source": [
    "# your code here\n",
    "print(d)\n",
    "print(f)\n"
   ]
  },
  {
   "cell_type": "markdown",
   "metadata": {},
   "source": [
    "#### 18. Bonus question: instead of using numbers (i.e. 0, 25, 50, 75, and 100), use string values  (\"A\", \"B\", \"C\", \"D\", and \"E\") to label the array elements. For the example above, the expected result is:\n",
    "\n",
    "```python\n",
    "[[[ 'D',  'D',  'D',  'B',  'D'],\n",
    "[ 'D',  'D',  'B',  'B',  'B'],\n",
    "[ 'D',  'B',  'D',  'D',  'D']],\n",
    "[[ 'B',  'B',  'B',  'B',  'E'],\n",
    "[ 'D',  'D',  'D',  'D',  'D'],\n",
    "[ 'B',  'D',   'A',  'D', 'D']]]\n",
    "```\n",
    "**Note**: you don't have to use Numpy in this question."
   ]
  },
  {
   "cell_type": "code",
   "execution_count": 96,
   "metadata": {},
   "outputs": [],
   "source": [
    "# your code here\n",
    "f = []\n",
    "for i in d:\n",
    "    for x in i:\n",
    "        if x > d_min and x < d_mean:\n",
    "            f += ['A']\n",
    "        if x > d_mean and x < d_max:\n",
    "            f += ['B']\n",
    "        if x == d_mean:\n",
    "            f += ['C']\n",
    "        if x == d_min:\n",
    "            f += ['D']\n",
    "        if x == d_max:\n",
    "            f += ['E']\n",
    "f = np.reshape(f, (3,5))"
   ]
  },
  {
   "cell_type": "code",
   "execution_count": 91,
   "metadata": {},
   "outputs": [
    {
     "name": "stdout",
     "output_type": "stream",
     "text": [
      "[[2.91557707 2.41853301 2.97318078 3.34034361 3.35446654]\n",
      " [3.09326906 2.34955174 2.20960745 3.15454409 2.74610136]\n",
      " [3.60310077 2.49488579 3.76476654 2.90480234 3.08780904]]\n",
      "[['A' 'A' 'B' 'B' 'B']\n",
      " ['B' 'A' 'D' 'B' 'A']\n",
      " ['B' 'A' 'E' 'A' 'B']]\n"
     ]
    }
   ],
   "source": [
    "print(d)\n",
    "print(f)"
   ]
  },
  {
   "cell_type": "code",
   "execution_count": null,
   "metadata": {},
   "outputs": [],
   "source": []
  }
 ],
 "metadata": {
  "kernelspec": {
   "display_name": "Python 3",
   "language": "python",
   "name": "python3"
  },
  "language_info": {
   "codemirror_mode": {
    "name": "ipython",
    "version": 3
   },
   "file_extension": ".py",
   "mimetype": "text/x-python",
   "name": "python",
   "nbconvert_exporter": "python",
   "pygments_lexer": "ipython3",
   "version": "3.8.3"
  }
 },
 "nbformat": 4,
 "nbformat_minor": 2
}
